{
  "nbformat": 4,
  "nbformat_minor": 0,
  "metadata": {
    "colab": {
      "name": "Scraping Unlimited Data from Twitter.ipynb",
      "provenance": [],
      "collapsed_sections": [],
      "authorship_tag": "ABX9TyOhDU0V2v2hFMxAJaJt2FdR",
      "include_colab_link": true
    },
    "kernelspec": {
      "name": "python3",
      "display_name": "Python 3"
    },
    "language_info": {
      "name": "python"
    }
  },
  "cells": [
    {
      "cell_type": "markdown",
      "metadata": {
        "id": "view-in-github",
        "colab_type": "text"
      },
      "source": [
        "<a href=\"https://colab.research.google.com/github/oneryigit/tutorials/blob/main/Scraping_Unlimited_Data_from_Twitter.ipynb\" target=\"_parent\"><img src=\"https://colab.research.google.com/assets/colab-badge.svg\" alt=\"Open In Colab\"/></a>"
      ]
    },
    {
      "cell_type": "markdown",
      "source": [
        "# Scrape Twitter Data\n",
        "\n",
        "- This is replication of **Bhavesh Bhatt**'s code with some modifications. Many thanks to him. Here is his video: [link text](https://www.youtube.com/watch?v=jOqLX_az_Tg&list=PLvnyEA_lYLe_cIWYHhmrKgHFHz9fInPig&index=17).\n"
      ],
      "metadata": {
        "id": "VhP4ucgKeR2Y"
      }
    },
    {
      "cell_type": "code",
      "source": [
        "!pip install snscrape\n"
      ],
      "metadata": {
        "colab": {
          "base_uri": "https://localhost:8080/"
        },
        "id": "-9NM3Mx1fp1x",
        "outputId": "cae23882-d4e2-4795-b135-e0a5117fc7a4"
      },
      "execution_count": 1,
      "outputs": [
        {
          "output_type": "stream",
          "name": "stdout",
          "text": [
            "Requirement already satisfied: snscrape in /usr/local/lib/python3.7/dist-packages (0.3.4)\n",
            "Requirement already satisfied: beautifulsoup4 in /usr/local/lib/python3.7/dist-packages (from snscrape) (4.6.3)\n",
            "Requirement already satisfied: requests[socks] in /usr/local/lib/python3.7/dist-packages (from snscrape) (2.23.0)\n",
            "Requirement already satisfied: lxml in /usr/local/lib/python3.7/dist-packages (from snscrape) (4.2.6)\n",
            "Requirement already satisfied: idna<3,>=2.5 in /usr/local/lib/python3.7/dist-packages (from requests[socks]->snscrape) (2.10)\n",
            "Requirement already satisfied: urllib3!=1.25.0,!=1.25.1,<1.26,>=1.21.1 in /usr/local/lib/python3.7/dist-packages (from requests[socks]->snscrape) (1.24.3)\n",
            "Requirement already satisfied: chardet<4,>=3.0.2 in /usr/local/lib/python3.7/dist-packages (from requests[socks]->snscrape) (3.0.4)\n",
            "Requirement already satisfied: certifi>=2017.4.17 in /usr/local/lib/python3.7/dist-packages (from requests[socks]->snscrape) (2021.10.8)\n",
            "Requirement already satisfied: PySocks!=1.5.7,>=1.5.6 in /usr/local/lib/python3.7/dist-packages (from requests[socks]->snscrape) (1.7.1)\n"
          ]
        }
      ]
    },
    {
      "cell_type": "code",
      "execution_count": 2,
      "metadata": {
        "id": "cI8Z2q7veO11"
      },
      "outputs": [],
      "source": [
        "import os\n",
        "import pandas as pd\n",
        "from datetime import date"
      ]
    },
    {
      "cell_type": "code",
      "source": [
        "today = date.today()\n",
        "end_date = today"
      ],
      "metadata": {
        "id": "9BZ4WIBZekS9"
      },
      "execution_count": 3,
      "outputs": []
    },
    {
      "cell_type": "code",
      "source": [
        "search_term = '#Van Cat'\n",
        "from_date = '2021-01-01'"
      ],
      "metadata": {
        "id": "Elzwujexeq5n"
      },
      "execution_count": 4,
      "outputs": []
    },
    {
      "cell_type": "markdown",
      "source": [
        "### Total Number of Tweets for Search Terms"
      ],
      "metadata": {
        "id": "FGNjVVzbgvhX"
      }
    },
    {
      "cell_type": "code",
      "source": [
        "os.system(f\"snscrape --since {from_date} twitter-search '{search_term} until:{end_date}' > result-tweets.txt\")\n",
        "if os.stat(\"result-tweets.txt\").st_size == 0:\n",
        "  counter = 0\n",
        "else:\n",
        "  df = pd.read_csv('result-tweets.txt', names=['link'])\n",
        "  counter = df.size\n",
        "\n",
        "print('Number Of Tweets : '+ str(counter))"
      ],
      "metadata": {
        "colab": {
          "base_uri": "https://localhost:8080/"
        },
        "id": "G1yI69Mxe22a",
        "outputId": "8c254411-eebb-4d5d-e813-fc050bd6e0b7"
      },
      "execution_count": 5,
      "outputs": [
        {
          "output_type": "stream",
          "name": "stdout",
          "text": [
            "Number Of Tweets : 39\n"
          ]
        }
      ]
    },
    {
      "cell_type": "markdown",
      "source": [
        "### Extracting Exact Tweeets"
      ],
      "metadata": {
        "id": "IT0AZ8OYgpd9"
      }
    },
    {
      "cell_type": "code",
      "source": [
        "max_results = 100\n",
        "\n",
        "extracted_tweets = \"snscrape --format '{content!r}'\"+ f\" --max-results {max_results} --since {from_date} twitter-search '{search_term} until:{end_date}' > extracted-tweets.txt\"\n",
        "os.system(extracted_tweets)\n",
        "if os.stat(\"extracted-tweets.txt\").st_size == 0:\n",
        "  print('No Tweets found')\n",
        "else:\n",
        "  df = pd.read_csv('extracted-tweets.txt', names=['content'])\n",
        "  for row in df['content'].iteritems():\n",
        "    print(row)"
      ],
      "metadata": {
        "colab": {
          "base_uri": "https://localhost:8080/"
        },
        "id": "TCPKTjvKe8--",
        "outputId": "25df62c1-015c-469b-efa9-0bcfcc86e09d"
      },
      "execution_count": 6,
      "outputs": [
        {
          "metadata": {
            "tags": null
          },
          "name": "stdout",
          "output_type": "stream",
          "text": [
            "(0, \"'Curiosity of the #cat who #loves to explore in my #dogwalking #van 🐈\\\\u200d⬛🐾 https://t.co/y6TvWUkRPJ'\")\n",
            "(1, \"'Kar prensi Paşa\\\\n#cats #vankedisi #van https://t.co/QylNqLU3Wo'\")\n",
            "(2, \"'@AdamCSharp Hehehe!\\\\n#Turkey’s #Van #cats already love swimming.\\\\n#Javanese pineapples are the yummiest.\\\\nYou be matchmaker.'\")\n",
            "(3, \"Let's leave some interesting information for #today.\\\\n\\\\n#Cats are afraid of water, but except for one: the Van Cat.\\\\n\\\\nCats do not like bathing and #swimming, but the Van #Cat is not included in this group. This species, which lives in the #Van Lake basin, is also a good swimmer. https://t.co/9ugI8JVheV\")\n",
            "(4, \"'Վանա կատու #Armenia \\\\n#Armenian #Van #cat 🐈🐈\\\\u200d⬛ https://t.co/DnJ3HC4ZLc'\")\n",
            "(5, \"'@RudawEnglish get some shots of the #Van #cat please'\")\n",
            "(6, \"You try to convince him he's a #van #cat and not a house cat when he can see couches in the dogs-only rental. https://t.co/KJvCi38LPV\")\n",
            "(7, \"⭐️ Multi-drop #Van Driver - #Leicester ⭐️\\\\nWe're looking for someone to start asap in Leicester - earning £450 p/w - Monday to Friday - 07:00 to 17:00 - Cat B Licence required*\\\\n⭐️ Click here to apply: https://t.co/sE5f0Mxhuu\\\\nCall 07376 549460 for more info 👍\\\\n@JCPInNotts https://t.co/FXtz78GaNc\")\n",
            "(8, \"'Bir işi görev bilmeyip içten gelen bir istekle yaptığınızda zamanınız olmasa bile ona zaman yaratmayı bilirsiniz.\\\\n\\\\nTeşekkürler #İsviçreMelekleri \\\\n#Van #sokakhayvanları #sokakköpekleri #sokakkedileri #dog #cat https://t.co/iHPsRrcxtb'\")\n",
            "(9, \"'Ultimate Cute and Funny Cat Compilation#chort #Virginia #MSNBC #Van #Jones #Murphy\\\\n\\\\nDemshttps://youtu.be/UiMPdfZwkU0 via @YouTube'\")\n",
            "(10, \"If you have that old #car #van #motorcycle #trailer #truck just parked on your driveway #makeadifference to #pets #dogs #cats by considering #donating them to #PAWSFlorida -We would sincerely do appreciate. Call (877) 999-8322 and we will pick it up for you. We're a #501c3 Thanks https://t.co/W03EdWa96R\")\n",
            "(11, '\\'\"Nightcat\" 🌙 After a long but beautiful day our friendly cat knows that he can always count on a good cup of tea. \\\\n\\\\nBy Arakelian Kristina ( Frenoki ) \\\\nDate : October - 2021\\\\nTechnique : Digital\\\\n\\\\n#kriscats #cats #travel #van #vanlife #voyage #chat https://t.co/o9fvYVkKem\\'')\n",
            "(12, \"'The cat is awake 🚀🚀🚀 @vancattoken #van😻'\")\n",
            "(13, \"'Ah\")\n",
            "(14, \"'Morphometric and volumetric analysis of the cervical spinal cord and vertebral canal using computed tomography images in normal #Van cats https://t.co/u9dXHlR3sA'\")\n",
            "(15, \"'The bare minimum equipment Vanilla MILFshake T-Shirt . You need to raise a cat is: Catbox. Appropriate food (I recommend grain-free or low-grain dry food. When buying cat food\")\n",
            "(16, \"'What comes from #Van\")\n",
            "(17, \"'ProArt® Araç Giydirme Tasarımları\\\\n\\\\n#proart #proartpet #vehicle #vehiclewrap #wrap #pet #cat #dog #evcil #kedi #köpek #outdoor #araç #araçgiydirme #van #vehicledesign #branddesign #araçtasarımı #marka #markatasarımı https://t.co/3m0famvumh'\")\n",
            "(18, \"'あなたはバンを見ていますか？🤔\\\\n😻😻😻\\\\n#vanlife \\\\n#cats \\\\n#van https://t.co/LCkV7jXVFB'\")\n",
            "(19, \"'who wants to #elope and have a cat named #meowmeow and live in a #van and #travel across the #world with me'\")\n",
            "(20, \"'Happy Birthdays to @ConmanCleary and @AnomalySfw on this fine day\")\n",
            "(21, '\\'Is that old #Car #Van #Truck #Bike #Scooter #JetSki #Plane giving you a lot of trouble due to age /telling you: \"Hi Friend')\n",
            "(22, \"'#Van #Kedisi #Cat https://t.co/pSLRTJxXSg'\")\n",
            "(23, \"'#Van #Kedisi #Cat https://t.co/dzBW577tkz'\")\n",
            "(24, \"'#ArtistOnTwitter #digital #drawing #draw #original #fanart #sprites #background #ninjamuffin99 #bf #fridaynightfunkin #fnf #rapping #character #sona #furry #oc #newgrounds #space #cat #rock #van #rockstar #vaporwave #ninjamuffin #art \\\\n@ninja_muffin99 https://t.co/0cuI3dCbdz'\")\n",
            "(25, \"'Yes. They can swim. It is Van cat. It is one special cat. Visit #Van to see more. https://t.co/xV46vArvNL'\")\n",
            "(26, \"'After watching #Nomadland #read Allie and Bea\")\n",
            "(27, \"'Where are the #cats\")\n",
            "(28, '\\'\"What\\\\\\'s going on back here?\"\\\\n\\\\nTeddy exploring the van. He\\\\\\'s very photogenic.\\\\n\\\\n#cat #catsofinstagram #catstagram #van  #vanlife #vanbuild @ San Juan Bautista')\n",
            "(29, \"'@CryptoMichNL Did we know that #Van cats have blue and green eyes.\\\\n👁️\\\\u200d🗨️👁️'\")\n",
            "(30, \"'Say hi to our lovely two-coloured eyes cat! The Van Cat is a symbol of the city of #Van and famed throughout the world for its distinct features! \\\\n\\\\nTo discover more about Van\")\n",
            "(31, \"'cat of #Van gogh starry night https://t.co/vMmga62naa'\")\n",
            "(32, \"'Royalist® Araç Giydirme Tasarımı\\\\n\\\\n#royalist #royalistpet #vehicle #vehiclewrap #wrap #pet #cat #dog #evcil #kedi #köpek #outdoor #araç #araçgiydirme #van #vehicledesign #branddesign #araçtasarımı #marka #markatasarımı https://t.co/QECJ4drI6q'\")\n",
            "(33, \"'#PiXiE #cat in her small cardboard #feline #van...  silly #KhaoManee... @ Virginia Beach\")\n",
            "(34, \"'Urban jungle\\\\n.\\\\n#panter #van #big #five #cat #spotting #psychogeography // wednesday 27 jan 2021 // #arieinwonderland #photodiary #fotodagboek // https://t.co/ys45fnOLPT @ Utrecht https://t.co/XXsnmUsAui'\")\n",
            "(35, \"'Los gatos blancos pueden ser vistos en Cat Villa\")\n",
            "(36, '\\'#Van #cat looks at a camera as they adopted with \"international health certificate at \"Cat Villa\"')\n",
            "(37, \"'The #Van cat 😻 https://t.co/pr5WvZX3CC'\")\n",
            "(38, \"4 katlı binanın çatısından düşen iki kardeş feci şekilde can verdi\\\\n\\\\nVan'da, uydu çanağını onarmak için bulundukları 4 katlı binanın çatısına çıkan iki kardeş, dengesini kaybederek düştü. Sağlık ekiplerinin ilk müdaha... \\\\n\\\\nTamamı: https://t.co/pxSzGkCMkS\\\\n#Van #Çat https://t.co/fpwiOdEdDQ\")\n"
          ]
        }
      ]
    },
    {
      "cell_type": "markdown",
      "source": [
        "### Extracting Tweets from Users"
      ],
      "metadata": {
        "id": "phqvF9NUhd2m"
      }
    },
    {
      "cell_type": "code",
      "source": [
        "user_name = \"JoeBiden\"\n",
        "max_results = 100\n",
        "\n",
        "user_tweets = \"snscrape --format '{content!r}'\"+ f\" --max-results {max_results} --since {from_date} twitter-user '{user_name} until:{end_date}' > user-tweets.txt\"\n",
        "os.system(user_tweets)\n",
        "if os.stat(\"user-tweets.txt\").st_size == 0:\n",
        "  print('No Tweets found')\n",
        "else:\n",
        "  df = pd.read_csv('user-tweets.txt', names=['content'])\n",
        "  for row in df['content'].iteritems():\n",
        "    print(row)"
      ],
      "metadata": {
        "colab": {
          "base_uri": "https://localhost:8080/"
        },
        "id": "Wg11YsHBg7Q-",
        "outputId": "b6d2cf83-6a62-445b-aa9a-40f9870acc63"
      },
      "execution_count": 7,
      "outputs": [
        {
          "output_type": "stream",
          "name": "stdout",
          "text": [
            "((\"'Happy Lunar New Year to those celebrating throughout the nation and around the world. I’m grateful for the invaluable contributions the AAPI community has made to our society\", ' economy', ' and culture. May the Year of the Tiger bring happiness', ' health'), \" and prosperity to all.'\")\n",
            "((\"'Black History Month serves as both a celebration and a powerful reminder that Black history is American history\", ' Black culture is American culture', ' and Black stories are essential to the ongoing story of America—our faults', ' our struggles'), ' our progress')\n",
            "((\"'Since I was sworn in\", ' America has added an additional 367', \"000 good-paying manufacturing jobs in America—the highest increase in U.S. manufacturing jobs in 30 years.'\", nan), nan)\n",
            "((\"'Extreme weather cost the country $145 billion last year alone. And it’s not going to ease up.\\\\n\\\\nOur Bipartisan Infrastructure Law invests in our resilience\", ' building roads higher', ' our levees stronger', \" and our power grids more durable so that they can stand up to extreme weather. https://t.co/PaxoP3kzXt'\"), nan)\n",
            "((\"'Fastest economic growth in nearly four decades.\\\\nGreatest year of job growth in American history. \\\\n\\\\nThis is no accident. \\\\n\\\\nOur economic strategy is creating good jobs for Americans and making our companies more competitive. And it’s just the beginning.'\", nan, nan, nan), nan)\n",
            "((\"'After four decades and 28 years on the United States Supreme Court\", ' I commend Justice Stephen Breyer’s life of service. His brilliance', ' his desire to know more', ' kindness to those around him'), \" and his optimism for the promise of our country has made him a model public servant.'\")\n",
            "((\"'I’m keeping the commitment I made during my campaign for president—I will nominate the first Black woman to the United States Supreme Court.\\\\nhttps://t.co/aoVrliWiMH'\", nan, nan, nan), nan)\n",
            "((\"'Last year\", ' we had the fastest economic growth in 38 years.\\\\n\\\\nWhile there is still more work to do', \" it’s clear we are finally building an American economy for the 21st century.'\", nan), nan)\n",
            "((\"'Good-paying\", \" decent jobs you can raise a family on. \\\\nJobs for the future. \\\\nJobs in every part of the country.\\\\n\\\\nThat’s what made in America is all about.'\", nan, nan), nan)\n",
            "((\"'Please wear a mask. It’s an important tool to help stop the spread of the Omicron variant.'\", nan, nan, nan), nan)\n",
            "((\"'Get your booster shot.'\", nan, nan, nan), nan)\n",
            "((\"'Folks\", ' we’re not going to give up. Some people may call what is happening now the new normal. I call it a job not yet finished. We are moving toward a time when COVID-19 won’t disrupt our daily lives. We may not be there yet', \" but we will get there.'\", nan), nan)\n",
            "((\"The Bipartisan Infrastructure Law is going to upgrade everything from roads, bridges, airports, transit, railroad, to make our economy move faster and reduce prices for families. It's going to create better jobs for Americans across the country. We’ll be moving again.\", nan, nan, nan), nan)\n",
            "((\"'There’s a clear choice in the midterms: there’s a party that works for people and is focused on the future—and a party that works for one man and is focused on relitigating the past. https://t.co/j82xpPppwx'\", nan, nan, nan), nan)\n",
            "((\"'Over the last year\", \" we have seen the grit and determination of the American people in the face of some of the biggest challenges. But I believe the best days of our country are ahead of us. We will get through this. https://t.co/ViiocVN6Oc'\", nan, nan), nan)\n",
            "((\"'While the Omicron variant may be a cause for concern\", ' it’s not cause for panic. Between vaccines and boosters to masks and at-home tests', \" we have the tools to save lives and keep our businesses and schools open. https://t.co/8aqqDGmCVJ'\", nan), nan)\n",
            "((\"'More than 200 million Americans are vaccinated.\\\\nOne billion free COVID-19 tests are available for Americans to order. \\\\nMore than 400 million free masks will soon be distributed to communities nationwide.\\\\n\\\\nWe will get through this pandemic together.'\", nan, nan, nan), nan)\n",
            "((\"'One year ago\", ' we promised that we would move quickly to deliver results for working families. From getting shots in arms and getting people back to work', ' to passing laws to create jobs and rebuild our crumbling infrastructure', \" we are making progress for the American people.'\"), nan)\n",
            "((\"'Tune in tonight as Vice President @KamalaHarris and I host a grassroots event to celebrate what we’ve accomplished this past year and what’s next. RSVP now.\\\\nhttps://t.co/tBNkNnRQNw'\", nan, nan, nan), nan)\n",
            "((\"'One year ago\", ' we started to write an American story of hope', ' not fear. \\\\nOf unity', ' not division. \\\\nOf light'), \" not darkness.\\\\n\\\\nAn American story of decency and dignity.\\\\nOf love and of healing.\\\\nOf greatness and of goodness.\\\\n\\\\nMay this be the story that continues to guide us forward.'\")\n",
            "((\"I've never been more optimistic about America's future. \\\\nhttps://t.co/UzOdpHW5RB\", nan, nan, nan), nan)\n",
            "((\"'Our first year was the greatest year of job growth in modern American history\", ' including over 6 million jobs added—more in one year than ever on record. We have more work ahead', \" but I know we can do it together.'\", nan), nan)\n",
            "((\"'January 20\", ' 2021 was a day of renewal and resolve for our nation. With hope', \" we set our sights on a nation we knew we could be and must be. \\\\n\\\\nAnd it was just the beginning. https://t.co/VDhqch8xU9'\", nan), nan)\n",
            "((\"'From getting more than 200 million Americans fully vaccinated to the addition of over 6 million new jobs\", \" we’ve made record progress for working families over the last year.'\", nan, nan), nan)\n",
            "((\"'A year ago\", \" we set out to write the next chapter in the American story.\\\\n\\\\nJoin me and Vice President @KamalaHarris this Thursday for a virtual event as we reflect on our first year and look ahead to the future.\\\\nhttps://t.co/tBNkNnRQNw'\", nan, nan), nan)\n",
            "((\"'On Martin Luther King\", ' Jr. Day', ' we must protect the hard-fought gains he helped achieve—and continue his unfinished struggle for a freer and more just society by raising our voices to confront abuses of power', ' challenge hate and discrimination'), \" and protect the right to vote.'\")\n",
            "((\"If you have not gotten vaccinated, do it. Personal choice impacts all of us—our hospitals, our country. \\\\n\\\\nCOVID-19 is one of the most formidable things America's ever faced. We have to work together, not against each other. We are the United States of America. We can do this.\", nan, nan, nan), nan)\n",
            "((\"Repairing and rebuilding our nation's bridges\\\\nDelivering clean water for every American\\\\nExpanding access to high-speed internet \\\\nBuilding resilience against severe weather\\\\n\\\\nThe Bipartisan Infrastructure Law is making critical investments that we've never seen before.\", nan, nan, nan), nan)\n",
            "((\"'Across the country\", ' 45', \"000 of our bridges are in desperate need of repair. My Bipartisan Infrastructure Law includes $40 billion to make those repairs.'\", nan), nan)\n",
            "((\"'I’ve said it before: If you are unvaccinated\", ' and test positive', ' you are 17 times more likely to get hospitalized.\\\\n\\\\nThe best way to keep yourself and your family safe is to get vaccinated', ' boosted'), \" and wear a mask indoors and in public spaces.'\")\n",
            "((\"'21st century Jim Crow is about voter suppression and subversion—it’s about who gets to vote\", ' who counts your vote', \" and whether your vote is counted.\\\\n\\\\nThe Senate must pass the John Lewis Voting Rights Advancement Act and the Freedom to Vote Act.'\", nan), nan)\n",
            "((\"'It’s not enough to praise Congressman John Lewis’ memory. In order to follow in his footsteps\", \" we must translate eulogy into action and support the bill in his name.\\\\n\\\\nThe Senate must pass the John Lewis Voting Rights Advancement Act and the Freedom to Vote Act.'\", nan, nan), nan)\n",
            "((\"'Last year alone\", \" 34 laws were enacted in 19 states with provisions restricting voting rights.\\\\n\\\\nWhat’s their end game? To turn the will of the voters into a mere suggestion. https://t.co/T9ufFTgqYz'\", nan, nan), nan)\n",
            "((\"'The right to vote and to have that vote counted is democracy’s threshold liberty. Without it\", \" nothing is possible.\\\\n\\\\nThis is about all of us. It’s about the people. It’s about America. https://t.co/nfBiII7uvk'\", nan, nan), nan)\n",
            "((\"I'll be clear: to protect our democracy, I support changing the Senate rules to prevent a minority of senators from blocking action on voting rights.\", nan, nan, nan), nan)\n",
            "((\"Since the start of my presidency, Republicans have done nothing but try to obstruct the country's economic recovery. https://t.co/WivbP7JWNF\", nan, nan, nan), nan)\n",
            "((\"From day one, my economic agenda has been different. It's been about taking a fundamentally new approach to our economy: one that sees the prosperity of working families as a solution, not the problem.\", nan, nan, nan), nan)\n",
            "((\"'I believe the power of the presidency and the purpose is to unite this nation\", \" not divide it. https://t.co/RzELTfTV9a'\", nan, nan), nan)\n",
            "((\"'Right now\", ' in states throughout the country', ' new laws are being written not to protect the vote', ' but to deny it. The former president and his supporters want not only to suppress the vote'), ' but to subvert it. \\\\n\\\\nIt’s wrong')\n",
            "((\"'Today’s a historic day for America’s economic recovery. https://t.co/PG8EAIk415'\", nan, nan, nan), nan)\n",
            "((\"'The election of 2020 was the greatest demonstration of democracy in the history of this country. https://t.co/49b2vmejBz'\", nan, nan, nan), nan)\n",
            "((\"'Folks\", \" get your booster.'\", nan, nan), nan)\n",
            "((\"'The FDA has now authorized booster shots for children ages 12 to 15. Vaccinating our children is the best way to protect them from the Omicron variant.'\", nan, nan, nan), nan)\n",
            "((\"'We must be absolutely clear about what is true and what is a lie. \\\\n\\\\nThe former president did what no president in the history of this country has ever done: He refused to accept the results of an election and the will of the American people. https://t.co/QCWCcbofUM'\", nan, nan, nan), nan)\n",
            "((\"Folks, I know we're all tired and frustrated about the pandemic.\\\\n\\\\nBut please, wear your mask in public to protect yourself and others. Get vaccinated and boosted. Take advantage of what resources we already have. We’ll get through this—together.\\\\nhttps://t.co/2CbSjLwOcG\", nan, nan, nan), nan)\n",
            "((\"'Folks\", ' we have a responsibility to see that America is an idea. One that requires vigilant stewardship.\\\\n\\\\nAs we stand here today', ' one year since January 6', ' 2021'), \" we must be firm and resolute and unyielding in our defense of the right to vote and to have that vote counted.'\")\n",
            "((\"'I did not seek this fight brought to this Capitol one year ago today\", \" but I will not shrink from it either. \\\\n\\\\nI will stand in this breach and defend this nation. I will not allow anyone to place a dagger at the throat of democracy. The will of the people will be heard. https://t.co/spR4EkrVb7'\", nan, nan), nan)\n",
            "((\"You cannot love your country only when you win. You cannot obey the law only when it's convenient. You cannot be patriotic when you embrace and enable lies.\", nan, nan, nan), nan)\n",
            "((\"'Here is the truth about what we saw on January 6\", ' 2021: Rioters menaced the halls of the Capitol. They were not looking to save the cause of America', \" but to subvert the Constitution. https://t.co/fvzTT3Czos'\", nan), nan)\n",
            "((\"'One year ago\", ' democracy was attacked. \\\\n\\\\nFor the first time in our history', \" a president tried to prevent the peaceful transition of power as a violent mob reached the Capitol. \\\\n\\\\nBut they failed. We must work to ensure that it never happens again.'\", nan), nan)\n",
            "((\"'Let’s be clear: Booster shots work. They’re safe and provide the highest level of protection against the Omicron variant. \\\\nhttps://t.co/sDOh06E5dD'\", nan, nan, nan), nan)\n",
            "((\"'The COVID-19 vaccine and booster are our best defense to end this pandemic—and the best way to protect yourself and your loved ones. Get vaccinated.'\", nan, nan, nan), nan)\n",
            "((\"'Millions rely on public transit every day—to get to work\", ' to school', ' to visit with family. But many communities', ' especially communities of color'), \" lack sufficient transit options. \\\\n\\\\nMy Bipartisan Infrastructure Law will expand public transit and replace outdated vehicles.'\")\n",
            "((\"'If you’re fully vaccinated and boosted\", ' you are highly protected from the Omicron variant.\\\\n\\\\nAnd we have enough vaccines to get every American fully vaccinated', ' including their booster shot. Get vaccinated', \" folks.'\"), nan)\n",
            "((\"'Folks\", \" get vaccinated.'\", nan, nan), nan)\n",
            "((\"This year, we'll keep: \\\\n\\\\nInvesting in America.\\\\nRebuilding America.\\\\nAnd building a better America for all. https://t.co/TCdzmyDtrp\", nan, nan, nan), nan)\n",
            "((\"'In 2022\", \" we’re going to keep building a better America. Happy New Year! https://t.co/RWAayKDwJH'\", nan, nan), nan)\n",
            "((\"This new sinister combination of voter suppression and election subversion—it's un-American and it's undemocratic.\\\\n\\\\nWe must pass the Freedom to Vote Act and the John Lewis Voting Rights Advancement Act.\", nan, nan, nan), nan)\n",
            "((\"'As we continue our holiday celebrations and head into the new year\", \" remember that the best way to protect your health and keep your loved ones safe from COVID-19 and the Omicron variant is to get vaccinated and get your booster shot.'\", nan, nan), nan)\n",
            "((\"'The most valuable tool we have to lower the costs of prescription drugs\", ' child care', ' and health care for families is my Build Back Better Act. \\\\n\\\\nIt’s fully paid for', ' will not increase the deficit'), ' and won’t raise the taxes by one penny for anyone making less than $400')\n",
            "((\"When it comes to voter suppression, it’s no longer just about making it easy for eligible people to vote—it's about whether or not those votes will count at all.\\\\n\\\\nIt's simple: voter suppression is un-American, un-democratic, and unpatriotic.\", nan, nan, nan), nan)\n",
            "((\"'Sending warm wishes to all who are celebrating Kwanzaa this week. We hope these days of reflection on the seven principles bring light\", ' happiness', \" and peace in the coming year.'\", nan), nan)\n",
            "((\"'On behalf of the entire Biden family\", \" Jill and I want to wish you a very Merry Christmas. https://t.co/2dIRa6XIEV'\", nan, nan), nan)\n",
            "((\"'Gas prices are down ten cents nationally\", \" and some states across the country are seeing gas prices at pre-pandemic averages. This will help so many Americans who are traveling this week.'\", nan, nan), nan)\n",
            "((\"'Packages are moving\", ' gifts are being delivered', ' and shelves are stocked. Today', \" retail inventories are up more than 3% from last year. \\\\n\\\\nWe’re making progress.'\"), nan)\n",
            "((\"'My Bipartisan Infrastructure Law includes the largest investment of public transit ever and will replace diesel buses with electric ones. This will get more people where they are going safer\", ' faster', ' and cleaner for the environment. It’s a win', ' win'), \" win.'\")\n",
            "((\"'Two years earlier than experts predicted\", \" the economy has added nearly 6 million jobs and the unemployment rate is down to 4.2%. Let’s keep this historic progress moving by passing Build Back Better.'\", nan, nan), nan)\n",
            "((\"If you're over the age of 18 and six months have gone by since you got vaccinated, go get your booster. Go get it now.\", nan, nan, nan), nan)\n",
            "((\"'We are not going back to March 2020. \\\\n\\\\nMore than 200 million Americans have been fully vaccinated and today\", \" we’re prepared for what’s coming. We must stay focused.'\", nan, nan), nan)\n",
            "((\"'If you haven’t yet\", \" please get vaccinated. It’s the best way to keep yourself and your loved ones safe from the Omicron variant. Now is the time. https://t.co/nLva52NSGI'\", nan, nan), nan)\n",
            "((\"'Booster shots provide the strongest protection against the Omicron variant. That’s why I got my booster—and encourage everyone who’s eligible to do so as well. https://t.co/7sEoXNjr9D'\", nan, nan, nan), nan)\n",
            "((\"'To the Americans who are wondering whether you can safely celebrate the holidays this weekend: the answer is yes\", ' you can. \\\\n\\\\nIf you and your families are vaccinated and follow the precautions', \" you should feel comfortable celebrating the Christmas holiday as you have planned.'\", nan), nan)\n",
            "((\"There aren't a lot of things that almost every American can agree on. But I think it's safe to say that all of us can agree that prescription drugs are outrageously expensive in our country. \\\\n\\\\nUnder my Build Back Better bill, which has passed the House, they won’t be.\", nan, nan, nan), nan)\n",
            "((\"'Six months out from your second Pfizer or Moderna vaccine shot or two months out from your Johnson &amp; Johnson shot? \\\\n\\\\nGet your booster.'\", nan, nan, nan), nan)\n",
            "((\"'The shock of losing a home or business\", ' the grief of losing a loved one during the holidays', \" is traumatizing. \\\\n\\\\nWe are going to ensure that folks in Kentucky and all those affected by the tornadoes have all the mental health resources they need to get through this difficult time.'\", nan), nan)\n",
            "((\"'The Build Back Better Act will lower the core costs that have held Americans back for decades: on everything from health care and child care to prescription drugs and housing. \\\\n\\\\nNo Republican in Congress supports it.'\", nan, nan, nan), nan)\n",
            "((\"'To the people of Kentucky who have been devastatingly impacted by these tornadoes\", ' know this—I intend to do whatever it takes', ' for as long as it takes', \" to help support your state and your local leaders recover and rebuild.\\\\nhttps://t.co/YKcUPa74vt'\"), nan)\n",
            "((\"'The American people deserve more than just a little breathing room—they deserve a real fighting chance to get ahead. The Build Back Better Act will prioritize families like yours and rebuild the backbone of America.\\\\nhttps://t.co/YXwRRtrmJ2'\", nan, nan, nan), nan)\n",
            "((\"If you are vaccinated but still worried about the new variant, get your booster. \\\\nIf you aren't vaccinated, go get that first shot. \\\\nWe’ll fight the Omicron variant, together.\", nan, nan, nan), nan)\n",
            "((\"'Life-saving\", \" prescription medication shouldn’t break the bank.\\\\nhttps://t.co/DGDEm6QC1l'\", nan, nan), nan)\n",
            "((\"'As we move into the winter and face the challenges of a new variant\", ' this is a moment for us to put the divisiveness behind us. This is a moment for the nation to unite in a common purpose: To fight this virus', ' protect one another', \" and to protect our economic recovery.'\"), nan)\n",
            "((\"'Everybody talks about the price tag for the Build Back Better Act. \\\\n\\\\nBut here’s the truth: If you make less than $400\", '000 a year', \" your taxes will not go up one single penny under our plan.'\", nan), nan)\n",
            "((\"Health care should be a right in this country, not a partisan issue. Diabetes, cancer, and other diseases don’t care whether you're a Democrat or a Republican. \\\\n\\\\nThis is about being able to afford the prescription drugs you need. Congress must come together and finish the job.\", nan, nan, nan), nan)\n",
            "((\"'The pandemic has put a strain on our global supply chains and caused prices to rise around the world. \\\\n\\\\nThe Build Back Better Act will help ease inflationary pressures\", \" lower costs for the American people and extend tax cuts for working families.'\", nan, nan), nan)\n",
            "((\"'Our 5-step plan to fight COVID-19 this winter: \\\\n1. Expanding the nationwide booster campaign \\\\n2. Launching new family vaccination clinics \\\\n3. Making at-home tests available \\\\n4. Increasing surge response teams \\\\n5. Accelerating our efforts to vaccinate the rest of the world'\", nan, nan, nan), nan)\n",
            "((\"'Parents should never have to worry about whether their drinking water is safe for their children. \\\\n\\\\nThe Bipartisan Infrastructure Law will start to replace 100% of our nation’s lead pipes and service lines so that every child across the country has access to clean and safe water.'\", nan, nan, nan), nan)\n",
            "((\"'America is entering this winter from a position of strength compared to where we were last winter. https://t.co/OE4gj0ZoCA'\", nan, nan, nan), nan)\n",
            "((\"'We are going to reinvest in our country and our people to continue building a better America with union jobs.\\\\nhttps://t.co/qbfXOe7GeN'\", nan, nan, nan), nan)\n",
            "((\"'Long gone are the days when we hear about infrastructure week with no follow through. From now on\", \" we’re in the infrastructure decade.'\", nan, nan), nan)\n",
            "((\"'17 Nobel Prize winners in economics say the Build Back Better Act will help ease long-term inflationary pressures and make our economy stronger. \\\\n\\\\nNot a single Republican in Congress supports it.'\", nan, nan, nan), nan)\n",
            "((\"'Americans that require insulin should not have to suffer and sacrifice just to get a drug that costs a few dollars to make. \\\\n\\\\nThe Build Back Better Act will cap insulin at $35 a month.\\\\nhttps://t.co/Ox0att5OYa'\", nan, nan, nan), nan)\n",
            "((\"'Last year\", ' more than half of the schools in America were closed. This year', ' 99% of schools are back open', \" and 20 million children ages 5 and older have already received their vaccine. Let’s keep it going.'\"), nan)\n",
            "((\"'The Bipartisan Infrastructure Law builds back our bridges\", ' water systems', ' power lines', ' electric grid better and stronger'), \" making them more resilient to the effects of climate change. No American should have to deal with flooding or losing power for days and weeks after a storm.'\")\n",
            "((\"'Since I was sworn in on January 20\", \" our economy has created nearly 6 million new jobs—a record for a new president.\\\\nhttps://t.co/Q0C99vrJYI'\", nan, nan), nan)\n",
            "((\"'Thanks to the American Rescue Plan\", \" we’ve cut child poverty in America by more than 40%. \\\\n\\\\nMany children who spent last Christmas in poverty will not this holiday season.'\", nan, nan), nan)\n",
            "((\"'My Build Back Better bill takes three major steps to lower the cost for families dealing with diabetes:\\\\n1️⃣ Cap cost sharing for insulin at $35\\\\n2️⃣ Get health insurance for folks with diabetes who don’t already have it\\\\n3️⃣ Keep drug companies accountable when they raise prices'\", nan, nan, nan), nan)\n",
            "((\"'America continues to add jobs at a record pace and nearly 6 million new jobs have been created since I was sworn in on January 20. Our economy is moving in the right direction\", \" but we have more to do.'\", nan, nan), nan)\n",
            "((\"'Today\", ' one in four Americans struggle to afford their prescription drugs', \" resulting in nearly 30% of patients either skipping doses or even cutting pills in half just to afford the costs. \\\\n\\\\nMy Build Back Better Bill will change that.'\", nan), nan)\n",
            "((\"'Any country that out educates us will outcompete us. \\\\n\\\\nThat’s why my Build Back Better Act will provide universal pre-K to every 3- and 4-year old in America and increase the maximum Pell Grant. This is how we invest in American families.'\", nan, nan, nan), nan)\n",
            "((\"'I’m proud to say that the typical American family has more money in their pockets than they did last year\", ' or the year before that', \" thanks to the American Rescue Plan.'\", nan), nan)\n"
          ]
        }
      ]
    }
  ]
}